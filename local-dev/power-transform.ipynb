{
 "cells": [
  {
   "cell_type": "code",
   "execution_count": 1,
   "id": "e7365cdd",
   "metadata": {},
   "outputs": [],
   "source": [
    "import pandas as pd\n",
    "import numpy as np\n",
    "import glob\n",
    "import os"
   ]
  },
  {
   "cell_type": "code",
   "execution_count": 2,
   "id": "d54cb3a6",
   "metadata": {},
   "outputs": [],
   "source": [
    "path = 'power-consumption'\n",
    "files = glob.glob(os.path.join(path, '*.txt'))\n",
    "multi_file_df = (pd.read_csv(file, sep=';', low_memory=False, na_values=['nan','?'], parse_dates={'Date_time':['Date','Time']}, index_col='Date_time', infer_datetime_format=True, header=0) for file in files)"
   ]
  },
  {
   "cell_type": "code",
   "execution_count": 3,
   "id": "d9a89c28",
   "metadata": {
    "scrolled": true
   },
   "outputs": [],
   "source": [
    "df = pd.concat(multi_file_df)"
   ]
  },
  {
   "cell_type": "code",
   "execution_count": 4,
   "id": "5294bce5",
   "metadata": {},
   "outputs": [],
   "source": [
    "df['Sub_metering_4'] = (df.iloc[:,0] * 1000 / 60) - (df.iloc[:,4] + df.iloc[:,5] + df.iloc[:,6])"
   ]
  },
  {
   "cell_type": "code",
   "execution_count": 5,
   "id": "7bf935a6",
   "metadata": {},
   "outputs": [],
   "source": [
    "processed_path = os.path.join(path, '.processed')\n",
    "if not os.path.exists(processed_path):\n",
    "    os.mkdir(processed_path)\n",
    "df.to_csv(os.path.join(processed_path, 'household-pow.csv'))"
   ]
  }
 ],
 "metadata": {
  "kernelspec": {
   "display_name": "Python 3",
   "language": "python",
   "name": "python3"
  },
  "language_info": {
   "codemirror_mode": {
    "name": "ipython",
    "version": 3
   },
   "file_extension": ".py",
   "mimetype": "text/x-python",
   "name": "python",
   "nbconvert_exporter": "python",
   "pygments_lexer": "ipython3",
   "version": "3.9.2"
  }
 },
 "nbformat": 4,
 "nbformat_minor": 5
}
