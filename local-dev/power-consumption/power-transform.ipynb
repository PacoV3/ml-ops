{
 "cells": [
  {
   "cell_type": "code",
   "execution_count": 6,
   "id": "e7365cdd",
   "metadata": {},
   "outputs": [],
   "source": [
    "from azure.storage.blob import BlobServiceClient\n",
    "import pandas as pd\n",
    "import os\n",
    "\n",
    "connect_str = input(\"Azure Storage Connection String: \")"
   ]
  },
  {
   "cell_type": "code",
   "execution_count": 7,
   "id": "bae8a66d",
   "metadata": {},
   "outputs": [],
   "source": [
    "blob_service_client = BlobServiceClient.from_connection_string(connect_str)\n",
    "container_client = blob_service_client.get_container_client('data')"
   ]
  },
  {
   "cell_type": "code",
   "execution_count": 11,
   "id": "0186f1e0",
   "metadata": {},
   "outputs": [],
   "source": [
    "file_name = 'household_power_consumption.txt'\n",
    "data_path = '.data'\n",
    "if not os.path.exists(data_path):\n",
    "    os.mkdir(data_path)\n",
    "download_file_path = os.path.join(data_path, file_name)"
   ]
  },
  {
   "cell_type": "code",
   "execution_count": 12,
   "id": "d7c999cb",
   "metadata": {},
   "outputs": [],
   "source": [
    "azure_path = 'power-consumption/data'\n",
    "blob_client = container_client.get_blob_client(os.path.join(azure_path, file_name))\n",
    "with open(download_file_path, \"wb\") as download_file:\n",
    "    download_file.write(blob_client.download_blob().readall())"
   ]
  },
  {
   "cell_type": "code",
   "execution_count": null,
   "id": "04677353",
   "metadata": {},
   "outputs": [],
   "source": [
    "df = pd.read_csv(download_file_path, sep=';', low_memory=False, \n",
    "    na_values=['nan','?'], parse_dates={'Date_time':['Date','Time']}, \n",
    "    index_col='Date_time', infer_datetime_format=True, header=0)"
   ]
  },
  {
   "cell_type": "code",
   "execution_count": 4,
   "id": "5294bce5",
   "metadata": {},
   "outputs": [],
   "source": [
    "df['Sub_metering_4'] = (df.iloc[:,0] * 1000 / 60) - (df.iloc[:,4] + df.iloc[:,5] + df.iloc[:,6])"
   ]
  },
  {
   "cell_type": "code",
   "execution_count": 5,
   "id": "7bf935a6",
   "metadata": {},
   "outputs": [],
   "source": [
    "processed_path = '.processed'\n",
    "if not os.path.exists(processed_path):\n",
    "    os.mkdir(processed_path)\n",
    "df.to_csv(os.path.join(processed_path, 'household-pow.csv'))"
   ]
  }
 ],
 "metadata": {
  "kernelspec": {
   "display_name": "Python 3",
   "language": "python",
   "name": "python3"
  },
  "language_info": {
   "codemirror_mode": {
    "name": "ipython",
    "version": 3
   },
   "file_extension": ".py",
   "mimetype": "text/x-python",
   "name": "python",
   "nbconvert_exporter": "python",
   "pygments_lexer": "ipython3",
   "version": "3.8.10"
  }
 },
 "nbformat": 4,
 "nbformat_minor": 5
}
